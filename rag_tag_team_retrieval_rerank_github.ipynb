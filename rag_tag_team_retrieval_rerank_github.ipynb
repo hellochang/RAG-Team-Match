{
  "cells": [
    {
      "cell_type": "code",
      "execution_count": null,
      "metadata": {
        "id": "50Z4_YLAoPa5"
      },
      "outputs": [],
      "source": [
        "!pip install cohere hnswlib unstructured -q"
      ]
    },
    {
      "cell_type": "code",
      "execution_count": null,
      "metadata": {
        "id": "tyRVSLlnIgPp"
      },
      "outputs": [],
      "source": [
        "!rm -r profiles profiles.zip"
      ]
    },
    {
      "cell_type": "code",
      "execution_count": null,
      "metadata": {
        "colab": {
          "base_uri": "https://localhost:8080/",
          "height": 73
        },
        "id": "euQ3aNHo6mu2",
        "outputId": "18c6516a-abac-4886-dbcb-420392b240c2"
      },
      "outputs": [
        {
          "data": {
            "text/html": [
              "\n",
              "     <input type=\"file\" id=\"files-dafa7c2d-cff7-491f-ab72-01e0b975e330\" name=\"files[]\" multiple disabled\n",
              "        style=\"border:none\" />\n",
              "     <output id=\"result-dafa7c2d-cff7-491f-ab72-01e0b975e330\">\n",
              "      Upload widget is only available when the cell has been executed in the\n",
              "      current browser session. Please rerun this cell to enable.\n",
              "      </output>\n",
              "      <script>// Copyright 2017 Google LLC\n",
              "//\n",
              "// Licensed under the Apache License, Version 2.0 (the \"License\");\n",
              "// you may not use this file except in compliance with the License.\n",
              "// You may obtain a copy of the License at\n",
              "//\n",
              "//      http://www.apache.org/licenses/LICENSE-2.0\n",
              "//\n",
              "// Unless required by applicable law or agreed to in writing, software\n",
              "// distributed under the License is distributed on an \"AS IS\" BASIS,\n",
              "// WITHOUT WARRANTIES OR CONDITIONS OF ANY KIND, either express or implied.\n",
              "// See the License for the specific language governing permissions and\n",
              "// limitations under the License.\n",
              "\n",
              "/**\n",
              " * @fileoverview Helpers for google.colab Python module.\n",
              " */\n",
              "(function(scope) {\n",
              "function span(text, styleAttributes = {}) {\n",
              "  const element = document.createElement('span');\n",
              "  element.textContent = text;\n",
              "  for (const key of Object.keys(styleAttributes)) {\n",
              "    element.style[key] = styleAttributes[key];\n",
              "  }\n",
              "  return element;\n",
              "}\n",
              "\n",
              "// Max number of bytes which will be uploaded at a time.\n",
              "const MAX_PAYLOAD_SIZE = 100 * 1024;\n",
              "\n",
              "function _uploadFiles(inputId, outputId) {\n",
              "  const steps = uploadFilesStep(inputId, outputId);\n",
              "  const outputElement = document.getElementById(outputId);\n",
              "  // Cache steps on the outputElement to make it available for the next call\n",
              "  // to uploadFilesContinue from Python.\n",
              "  outputElement.steps = steps;\n",
              "\n",
              "  return _uploadFilesContinue(outputId);\n",
              "}\n",
              "\n",
              "// This is roughly an async generator (not supported in the browser yet),\n",
              "// where there are multiple asynchronous steps and the Python side is going\n",
              "// to poll for completion of each step.\n",
              "// This uses a Promise to block the python side on completion of each step,\n",
              "// then passes the result of the previous step as the input to the next step.\n",
              "function _uploadFilesContinue(outputId) {\n",
              "  const outputElement = document.getElementById(outputId);\n",
              "  const steps = outputElement.steps;\n",
              "\n",
              "  const next = steps.next(outputElement.lastPromiseValue);\n",
              "  return Promise.resolve(next.value.promise).then((value) => {\n",
              "    // Cache the last promise value to make it available to the next\n",
              "    // step of the generator.\n",
              "    outputElement.lastPromiseValue = value;\n",
              "    return next.value.response;\n",
              "  });\n",
              "}\n",
              "\n",
              "/**\n",
              " * Generator function which is called between each async step of the upload\n",
              " * process.\n",
              " * @param {string} inputId Element ID of the input file picker element.\n",
              " * @param {string} outputId Element ID of the output display.\n",
              " * @return {!Iterable<!Object>} Iterable of next steps.\n",
              " */\n",
              "function* uploadFilesStep(inputId, outputId) {\n",
              "  const inputElement = document.getElementById(inputId);\n",
              "  inputElement.disabled = false;\n",
              "\n",
              "  const outputElement = document.getElementById(outputId);\n",
              "  outputElement.innerHTML = '';\n",
              "\n",
              "  const pickedPromise = new Promise((resolve) => {\n",
              "    inputElement.addEventListener('change', (e) => {\n",
              "      resolve(e.target.files);\n",
              "    });\n",
              "  });\n",
              "\n",
              "  const cancel = document.createElement('button');\n",
              "  inputElement.parentElement.appendChild(cancel);\n",
              "  cancel.textContent = 'Cancel upload';\n",
              "  const cancelPromise = new Promise((resolve) => {\n",
              "    cancel.onclick = () => {\n",
              "      resolve(null);\n",
              "    };\n",
              "  });\n",
              "\n",
              "  // Wait for the user to pick the files.\n",
              "  const files = yield {\n",
              "    promise: Promise.race([pickedPromise, cancelPromise]),\n",
              "    response: {\n",
              "      action: 'starting',\n",
              "    }\n",
              "  };\n",
              "\n",
              "  cancel.remove();\n",
              "\n",
              "  // Disable the input element since further picks are not allowed.\n",
              "  inputElement.disabled = true;\n",
              "\n",
              "  if (!files) {\n",
              "    return {\n",
              "      response: {\n",
              "        action: 'complete',\n",
              "      }\n",
              "    };\n",
              "  }\n",
              "\n",
              "  for (const file of files) {\n",
              "    const li = document.createElement('li');\n",
              "    li.append(span(file.name, {fontWeight: 'bold'}));\n",
              "    li.append(span(\n",
              "        `(${file.type || 'n/a'}) - ${file.size} bytes, ` +\n",
              "        `last modified: ${\n",
              "            file.lastModifiedDate ? file.lastModifiedDate.toLocaleDateString() :\n",
              "                                    'n/a'} - `));\n",
              "    const percent = span('0% done');\n",
              "    li.appendChild(percent);\n",
              "\n",
              "    outputElement.appendChild(li);\n",
              "\n",
              "    const fileDataPromise = new Promise((resolve) => {\n",
              "      const reader = new FileReader();\n",
              "      reader.onload = (e) => {\n",
              "        resolve(e.target.result);\n",
              "      };\n",
              "      reader.readAsArrayBuffer(file);\n",
              "    });\n",
              "    // Wait for the data to be ready.\n",
              "    let fileData = yield {\n",
              "      promise: fileDataPromise,\n",
              "      response: {\n",
              "        action: 'continue',\n",
              "      }\n",
              "    };\n",
              "\n",
              "    // Use a chunked sending to avoid message size limits. See b/62115660.\n",
              "    let position = 0;\n",
              "    do {\n",
              "      const length = Math.min(fileData.byteLength - position, MAX_PAYLOAD_SIZE);\n",
              "      const chunk = new Uint8Array(fileData, position, length);\n",
              "      position += length;\n",
              "\n",
              "      const base64 = btoa(String.fromCharCode.apply(null, chunk));\n",
              "      yield {\n",
              "        response: {\n",
              "          action: 'append',\n",
              "          file: file.name,\n",
              "          data: base64,\n",
              "        },\n",
              "      };\n",
              "\n",
              "      let percentDone = fileData.byteLength === 0 ?\n",
              "          100 :\n",
              "          Math.round((position / fileData.byteLength) * 100);\n",
              "      percent.textContent = `${percentDone}% done`;\n",
              "\n",
              "    } while (position < fileData.byteLength);\n",
              "  }\n",
              "\n",
              "  // All done.\n",
              "  yield {\n",
              "    response: {\n",
              "      action: 'complete',\n",
              "    }\n",
              "  };\n",
              "}\n",
              "\n",
              "scope.google = scope.google || {};\n",
              "scope.google.colab = scope.google.colab || {};\n",
              "scope.google.colab._files = {\n",
              "  _uploadFiles,\n",
              "  _uploadFilesContinue,\n",
              "};\n",
              "})(self);\n",
              "</script> "
            ],
            "text/plain": [
              "<IPython.core.display.HTML object>"
            ]
          },
          "metadata": {},
          "output_type": "display_data"
        },
        {
          "name": "stdout",
          "output_type": "stream",
          "text": [
            "Saving profiles.zip to profiles.zip\n"
          ]
        }
      ],
      "source": [
        "from google.colab import files\n",
        "\n",
        "uploaded = files.upload()"
      ]
    },
    {
      "cell_type": "code",
      "execution_count": null,
      "metadata": {
        "colab": {
          "base_uri": "https://localhost:8080/"
        },
        "id": "_EcuJnOs6xdU",
        "outputId": "62a3cdd8-a6f5-44c1-ca7b-51c291f11ff1"
      },
      "outputs": [
        {
          "name": "stdout",
          "output_type": "stream",
          "text": [
            "Archive:  profiles.zip\n",
            "   creating: profiles/\n",
            "  inflating: profiles/arts1.json     \n",
            "  inflating: profiles/arts2.json     \n",
            "  inflating: profiles/arts3.json     \n",
            "  inflating: profiles/arts4.json     \n",
            "  inflating: profiles/arts5.json     \n",
            "  inflating: profiles/backend1.json  \n",
            "  inflating: profiles/backend2.json  \n",
            "  inflating: profiles/backend3.json  \n",
            "  inflating: profiles/backend4.json  \n",
            "  inflating: profiles/backend5.json  \n",
            "  inflating: profiles/business1.json  \n",
            "  inflating: profiles/business2.json  \n",
            "  inflating: profiles/business3.json  \n",
            "  inflating: profiles/business4.json  \n",
            "  inflating: profiles/business5.json  \n",
            "  inflating: profiles/c_suite1.json  \n",
            "  inflating: profiles/c_suite2.json  \n",
            "  inflating: profiles/c_suite3.json  \n",
            "  inflating: profiles/c_suite4.json  \n",
            "  inflating: profiles/c_suite5.json  \n",
            "  inflating: profiles/finance1.json  \n",
            "  inflating: profiles/finance2.json  \n",
            "  inflating: profiles/finance3.json  \n",
            "  inflating: profiles/finance4.json  \n",
            "  inflating: profiles/finance5.json  \n",
            "  inflating: profiles/frontend1.json  \n",
            "  inflating: profiles/frontend2.json  \n",
            "  inflating: profiles/frontend3.json  \n",
            "  inflating: profiles/frontend4.json  \n",
            "  inflating: profiles/frontend5.json  \n",
            "  inflating: profiles/journalist1.json  \n",
            "  inflating: profiles/journalist2.json  \n",
            "  inflating: profiles/journalist3.json  \n",
            "  inflating: profiles/journalist4.json  \n",
            "  inflating: profiles/journalist5.json  \n",
            "  inflating: profiles/manager1.json  \n",
            "  inflating: profiles/manager2.json  \n",
            "  inflating: profiles/manager3.json  \n",
            "  inflating: profiles/manager4.json  \n",
            "  inflating: profiles/manager5.json  \n",
            "  inflating: profiles/medical1.json  \n",
            "  inflating: profiles/medical2.json  \n",
            "  inflating: profiles/medical3.json  \n",
            "  inflating: profiles/medical4.json  \n",
            "  inflating: profiles/medical5.json  \n",
            "  inflating: profiles/ml_ds1.json    \n",
            "  inflating: profiles/ml_ds2.json    \n",
            "  inflating: profiles/ml_ds3.json    \n",
            "  inflating: profiles/ml_ds4.json    \n",
            "  inflating: profiles/ml_ds5.json    \n",
            "  inflating: profiles/startup1.json  \n",
            "  inflating: profiles/startup10.json  \n",
            "  inflating: profiles/startup11.json  \n",
            "  inflating: profiles/startup12.json  \n",
            "  inflating: profiles/startup13.json  \n",
            "  inflating: profiles/startup14.json  \n",
            "  inflating: profiles/startup15.json  \n",
            "  inflating: profiles/startup16.json  \n",
            "  inflating: profiles/startup17.json  \n",
            "  inflating: profiles/startup18.json  \n",
            "  inflating: profiles/startup19.json  \n",
            "  inflating: profiles/startup2.json  \n",
            "  inflating: profiles/startup20.json  \n",
            "  inflating: profiles/startup21.json  \n",
            "  inflating: profiles/startup22.json  \n",
            "  inflating: profiles/startup23.json  \n",
            "  inflating: profiles/startup24.json  \n",
            "  inflating: profiles/startup25.json  \n",
            "  inflating: profiles/startup3.json  \n",
            "  inflating: profiles/startup4.json  \n",
            "  inflating: profiles/startup5.json  \n",
            "  inflating: profiles/startup6.json  \n",
            "  inflating: profiles/startup7.json  \n",
            "  inflating: profiles/startup8.json  \n",
            "  inflating: profiles/startup9.json  \n"
          ]
        }
      ],
      "source": [
        "!unzip profiles.zip"
      ]
    },
    {
      "cell_type": "code",
      "execution_count": null,
      "metadata": {
        "id": "sr69cS4XoQ7W"
      },
      "outputs": [],
      "source": [
        "import cohere\n",
        "import os\n",
        "import hnswlib\n",
        "import json\n",
        "import uuid\n",
        "from typing import List, Dict\n",
        "from unstructured.partition.html import partition_html\n",
        "from unstructured.chunking.title import chunk_by_title\n",
        "import json\n",
        "from pprint import pprint\n",
        "\n",
        "co = cohere.Client(COHERE_API_KEY)"
      ]
    },
    {
      "cell_type": "code",
      "execution_count": null,
      "metadata": {
        "colab": {
          "base_uri": "https://localhost:8080/"
        },
        "id": "kU3G4BDB61x0",
        "outputId": "315595f7-8a52-431f-eebf-19ce10ef7fe4"
      },
      "outputs": [
        {
          "name": "stdout",
          "output_type": "stream",
          "text": [
            "75\n"
          ]
        }
      ],
      "source": [
        "import os\n",
        "import json\n",
        "\n",
        "def read_json_file(file_path):\n",
        "    with open(file_path, 'r') as file:\n",
        "        data = json.load(file)\n",
        "    return data\n",
        "\n",
        "def json_files_to_list_of_dicts(directory_path):\n",
        "    data_list = []\n",
        "\n",
        "    for filename in os.listdir(directory_path):\n",
        "        if filename.endswith('.json'):\n",
        "            file_path = os.path.join(directory_path, filename)\n",
        "            json_data = read_json_file(file_path)\n",
        "            data_list.append(json_data)\n",
        "\n",
        "    return data_list\n",
        "\n",
        "directory_path = 'profiles'\n",
        "profiles = json_files_to_list_of_dicts(directory_path)\n",
        "\n",
        "print(len(profiles))"
      ]
    },
    {
      "cell_type": "code",
      "execution_count": null,
      "metadata": {
        "id": "EpmAFjwRNejX"
      },
      "outputs": [],
      "source": [
        "def preprocess(dict):\n",
        "    # Take in a dict and convert it to a string with an associated user id\n",
        "    experiences = \"\"\n",
        "    for experience in dict[\"experience\"]:\n",
        "        responsibilities = \"\"\n",
        "        for responsibility in experience[\"responsibilities\"]:\n",
        "          responsibilities = responsibilities +  responsibility  + \"\\n\"\n",
        "        experiences += (\n",
        "            f\"Position: {experience['position']}\\n\"\n",
        "            f\"Duration: {experience['duration']}\\n\"\n",
        "            f\"Location: {experience['location']}\\n\"\n",
        "            f\"Responsibilities: {responsibilities}\\n\"\n",
        "        )\n",
        "    skills = \"\"\n",
        "    for skill in dict[\"skills\"]:\n",
        "        skills += f\"{skill}\\n\"\n",
        "\n",
        "    educations = \"\"\n",
        "    for education in dict[\"education\"]:\n",
        "        educations += (\n",
        "            f\"Degree: {education['degree']}\\n\"\n",
        "            f\"University: {education['university']}\\n\"\n",
        "            f\"Location: {education['location']}\\n\"\n",
        "            f\"Graduation Year: {education['graduation_year']}\\n\"\n",
        "        )\n",
        "\n",
        "    linkedinstring = (\n",
        "        f\"Background: {dict['background']}\\n\"\n",
        "        f\"Experiences: {experiences}\\n\"\n",
        "        f\"Education: {educations}\\n\"\n",
        "        f\"Skills: {skills}\\n\"\n",
        "    )\n",
        "    return linkedinstring"
      ]
    },
    {
      "cell_type": "code",
      "execution_count": null,
      "metadata": {
        "id": "PytcPApKnz2d"
      },
      "outputs": [],
      "source": [
        "class Documents:\n",
        "  def __init__(self, sources: List[Dict[str, str]]):\n",
        "    self.sources = sources\n",
        "    self.docs = []\n",
        "    self.docs_embs = []\n",
        "    self.retrieve_top_k = 20\n",
        "    self.rerank_top_k = 5\n",
        "    self.load()\n",
        "    self.embed()\n",
        "    self.index()\n",
        "\n",
        "  def load(self) -> None:\n",
        "    for index, source in enumerate(self.sources):\n",
        "      self.docs.append({'text': preprocess(source), 'id': index})\n",
        "\n",
        "  def embed(self) -> None:\n",
        "    \"\"\"\n",
        "    Embeds the documents using the Cohere API.\n",
        "    \"\"\"\n",
        "    print(\"Embedding documents...\")\n",
        "\n",
        "    batch_size = 90\n",
        "    self.docs_len = len(self.docs)\n",
        "\n",
        "    for i in range(0, self.docs_len, batch_size):\n",
        "      batch = self.docs[i : min(i + batch_size, self.docs_len)]\n",
        "      texts = [item['text'] for item in batch]\n",
        "      docs_embs_batch = co.embed(\n",
        "        texts=texts,\n",
        "        model=\"embed-english-v3.0\",\n",
        "        input_type=\"search_document\"\n",
        "\t \t\t).embeddings\n",
        "      self.docs_embs.extend(docs_embs_batch)\n",
        "\n",
        "  def index(self) -> None:\n",
        "    \"\"\"\n",
        "    Indexes the documents for efficient retrieval.\n",
        "    \"\"\"\n",
        "    print(\"Indexing documents...\")\n",
        "\n",
        "    self.index = hnswlib.Index(space=\"ip\", dim=1024)\n",
        "    self.index.init_index(max_elements=self.docs_len, ef_construction=512, M=64)\n",
        "    self.index.add_items(self.docs_embs, list(range(len(self.docs_embs))))\n",
        "\n",
        "    print(f\"Indexing complete with {self.index.get_current_count()} documents.\")\n",
        "\n",
        "  def retrieve(self, query: str) -> List[Dict[str, str]]:\n",
        "    \"\"\"\n",
        "    Retrieves documents based on the given query.\n",
        "\n",
        "    Parameters:\n",
        "    query (str): The query to retrieve documents for.\n",
        "\n",
        "    Returns:\n",
        "    List[Dict[str, str]]: A list of dictionaries representing the retrieved  documents, with 'title', 'snippet', and 'url' keys.\n",
        "    \"\"\"\n",
        "    docs_retrieved = []\n",
        "    query_emb = co.embed(\n",
        "      texts=[query],\n",
        "      model=\"embed-english-v3.0\",\n",
        "      input_type=\"search_query\"\n",
        "    ).embeddings\n",
        "\n",
        "    doc_ids = self.index.knn_query(query_emb, k=self.retrieve_top_k)[0][0]\n",
        "\n",
        "    docs_to_rerank = []\n",
        "    for doc_id in doc_ids:\n",
        "        docs_to_rerank.append(self.docs[doc_id])\n",
        "\n",
        "    rerank_results = co.rerank(\n",
        "        query=query,\n",
        "        documents=docs_to_rerank,\n",
        "        top_n=self.rerank_top_k,\n",
        "        model=\"rerank-english-v2.0\",\n",
        "    )\n",
        "\n",
        "    doc_ids_reranked = []\n",
        "    for result in rerank_results:\n",
        "        doc_ids_reranked.append(doc_ids[result.index])\n",
        "\n",
        "    for doc_id in doc_ids_reranked:\n",
        "        docs_retrieved.append(\n",
        "            {\n",
        "                \"text\": self.docs[doc_id]['text'],\n",
        "                \"id\": self.docs[doc_id]['id']\n",
        "            }\n",
        "        )\n",
        "\n",
        "    sources_retrieved = []\n",
        "\n",
        "    for docs_retrieved_item in docs_retrieved:\n",
        "      sources_retrieved.append(self.sources[docs_retrieved_item['id']])\n",
        "\n",
        "    return sources_retrieved, docs_retrieved"
      ]
    },
    {
      "cell_type": "code",
      "execution_count": null,
      "metadata": {
        "id": "RAz63szwMuIX"
      },
      "outputs": [],
      "source": [
        "class SearchEngine:\n",
        "  def __init__(self, docs: Documents):\n",
        "    self.documents = documents\n",
        "    self.conversation_id = str(uuid.uuid4())\n",
        "\n",
        "  def retrieve_and_summarize(self, profile_index: int):\n",
        "\n",
        "    summarized_profile = co.summarize(preprocess(profiles[profile_index]))\n",
        "\n",
        "    sources, docs = self.retrieve_sources(summarized_profile)\n",
        "\n",
        "    summarized_docs = []\n",
        "    for doc in docs:\n",
        "      summarized_docs.append({ \"text\": co.summarize(doc['text']), \"id\": doc[\"id\"]})\n",
        "\n",
        "    result = []\n",
        "\n",
        "    for index, summarized_doc in enumerate(summarized_docs):\n",
        "      response_why = co.chat(\n",
        "          message=f\"Can you explain why the following profile: {summarized_doc['text']}, is a good match for this profile: {summarized_profile}, as co-founder?\",\n",
        "          model=\"command\",\n",
        "\t        temperature=0.9\n",
        "      )\n",
        "      name_key = [item for item in sources[index].keys() if item not in ['profile_url', 'background', 'experience', 'education', 'skills']]\n",
        "      print(f\"Matched {index + 1} People...\")\n",
        "      result.append({\n",
        "          \"name\": sources[index][name_key[0]],\n",
        "          \"title\": \"\",\n",
        "          \"summary_of_matches\": response_why.text\n",
        "      })\n",
        "\n",
        "    return { \"matches\": result }\n",
        "\n",
        "  def retrieve_sources(self, summarized_profile: str):\n",
        "    sources, docs = self.documents.retrieve(f\"Find a co-founder with complementary skillset given the following profile?: {summarized_profile}\")\n",
        "    return sources, docs"
      ]
    },
    {
      "cell_type": "code",
      "execution_count": null,
      "metadata": {
        "colab": {
          "base_uri": "https://localhost:8080/"
        },
        "id": "4r5235e9SqCF",
        "outputId": "f2d08976-713c-48d2-9ae4-0a5df08366e5"
      },
      "outputs": [
        {
          "name": "stdout",
          "output_type": "stream",
          "text": [
            "Embedding documents...\n",
            "Indexing documents...\n",
            "Indexing complete with 75 documents.\n"
          ]
        }
      ],
      "source": [
        "documents = Documents(profiles)"
      ]
    },
    {
      "cell_type": "code",
      "execution_count": null,
      "metadata": {
        "id": "PmNxzj3ZMvi0"
      },
      "outputs": [],
      "source": [
        "search_engine = SearchEngine(documents)"
      ]
    },
    {
      "cell_type": "code",
      "execution_count": null,
      "metadata": {
        "colab": {
          "base_uri": "https://localhost:8080/"
        },
        "id": "jv4MyOu2QTQr",
        "outputId": "ac06b928-d7c7-4565-eeb2-41ec1f3bf37a"
      },
      "outputs": [
        {
          "name": "stdout",
          "output_type": "stream",
          "text": [
            "sources: [{'startup_enthusiast': 'Sophia Patel', 'profile_url': 'https://www.linkedin.com/in/sophiapatel/', 'background': 'Sophia Patel is a forward-thinking entrepreneur who thrives on innovation and disruption. She has a history of founding and scaling startups in both the tech and healthcare sectors. Currently, Sophia is the Co-Founder and CEO of a healthtech startup focused on revolutionizing remote patient monitoring and healthcare access.', 'experience': [{'position': 'Co-Founder & CEO at HealthTech Innovations', 'duration': 'Jan 2017 - Present', 'location': 'Boston, MA, USA', 'responsibilities': [\"Lead the company's mission to improve healthcare access\", 'Developed telemedicine and remote monitoring solutions', 'Secured partnerships and funding for expansion']}, {'position': 'Co-Founder & COO at TechMed Solutions', 'duration': 'Jun 2012 - Dec 2016', 'location': 'San Diego, CA, USA', 'responsibilities': ['Launched and scaled a healthcare technology startup', 'Managed day-to-day operations and strategic growth', 'Built a network of healthcare providers and institutions']}], 'education': [{'degree': 'Doctor of Medicine (MD)', 'university': 'Harvard Medical School', 'location': 'Boston, MA, USA', 'graduation_year': '2010'}, {'degree': 'Bachelor of Science in Computer Science', 'university': 'Massachusetts Institute of Technology (MIT)', 'location': 'Cambridge, MA, USA', 'graduation_year': '2005'}], 'skills': ['Startup Founding', 'Healthtech Innovation', 'Telemedicine', 'Remote Patient Monitoring', 'Healthcare Access', 'Strategic Partnerships', 'Entrepreneurship', 'Medical Expertise', 'Product Development', 'Business Growth']}, {'startup_enthusiast': 'Alexandra Turner', 'profile_url': 'https://www.linkedin.com/in/alexandraturner/', 'background': 'Alexandra Turner is a dynamic entrepreneur with a passion for building innovative startups. With a proven track record of success, she has co-founded and led multiple ventures across various industries. Currently, Alexandra is the Co-Founder and CEO of a cutting-edge biotech startup focused on genetic research and personalized medicine.', 'experience': [{'position': 'Co-Founder & CEO at GenoHealth Sciences', 'duration': 'Jan 2016 - Present', 'location': 'San Francisco, CA, USA', 'responsibilities': ['Lead company vision, strategy, and product development', 'Secure funding through successful fundraising efforts', 'Build a multidisciplinary team and foster innovation']}, {'position': 'Co-Founder & COO at TechLaunchX', 'duration': 'Jul 2011 - Dec 2015', 'location': 'New York, NY, USA', 'responsibilities': ['Coordinated product development and market entry strategies', 'Managed day-to-day operations and financial planning', 'Negotiated partnerships and collaborations']}], 'education': [{'degree': 'Master of Business Administration (MBA)', 'university': 'Stanford Graduate School of Business', 'location': 'Stanford, CA, USA', 'graduation_year': '2010'}, {'degree': 'Bachelor of Science in Biotechnology', 'university': 'MIT', 'location': 'Cambridge, MA, USA', 'graduation_year': '2006'}], 'skills': ['Startup Leadership', 'Entrepreneurship', 'Biotech Innovation', 'Fundraising', 'Team Building', 'Product Development', 'Strategic Planning', 'Business Development', 'Biotechnology', 'Investor Relations']}, {'startup_enthusiast': 'Emily Patel', 'profile_url': 'https://www.linkedin.com/in/emilypatel/', 'background': 'Emily Patel is a creative entrepreneur known for her innovative solutions and dynamic leadership. She has a history of launching successful startups in various sectors. Currently, Emily is the Co-Founder and Chief Creative Officer of a tech-enabled fashion startup that combines fashion with sustainability and technology.', 'experience': [{'position': 'Co-Founder & Chief Creative Officer at WearTech Style', 'duration': 'Jan 2017 - Present', 'location': 'New York, NY, USA', 'responsibilities': ['Lead creative direction, design, and branding efforts', 'Develop sustainable fashion tech products and partnerships', 'Oversee marketing and customer engagement strategies']}, {'position': 'Founder & CEO at FoodFusion', 'duration': 'Jul 2011 - Dec 2016', 'location': 'San Francisco, CA, USA', 'responsibilities': ['Pioneered a food-tech startup focused on culinary innovation', 'Built a community of food enthusiasts and chefs', \"Navigated the company's growth and acquisition\"]}], 'education': [{'degree': 'Bachelor of Fine Arts (BFA) in Fashion Design', 'university': 'Parsons School of Design', 'location': 'New York, NY, USA', 'graduation_year': '2010'}, {'degree': 'Bachelor of Science in Business Administration', 'university': 'University of California, Berkeley', 'location': 'Berkeley, CA, USA', 'graduation_year': '2006'}], 'skills': ['Startup Leadership', 'Creative Direction', 'Fashion Tech Innovation', 'Sustainability in Fashion', 'Brand Development', 'Product Design', 'Marketing Strategy', 'Community Building', 'Entrepreneurship', 'Business Growth']}, {'startup_founder': 'John Nguyen', 'profile_url': 'https://www.linkedin.com/in/johnnguyen/', 'background': 'John Nguyen is a visionary entrepreneur with a strong background in technology and AI. He has a history of founding and leading startups in the artificial intelligence sector. Currently, John is the Founder and CEO of a robotics and AI startup focused on developing autonomous systems for various industries.', 'experience': [{'position': 'Founder & CEO at RoboTech Innovations', 'duration': 'Jan 2018 - Present', 'location': 'San Francisco, CA, USA', 'responsibilities': ['Established and led the robotics and AI startup', 'Developed autonomous systems for industrial applications', 'Secured partnerships and funding for growth']}, {'position': 'Co-Founder & CTO at AI Solutions, Inc.', 'duration': 'Jun 2012 - Dec 2017', 'location': 'Seattle, WA, USA', 'responsibilities': ['Pioneered AI solutions for enterprise clients', 'Led technology development and machine learning initiatives', 'Achieved successful AI product implementations']}], 'education': [{'degree': 'Master of Science in Computer Science', 'university': 'Stanford University', 'location': 'Stanford, CA, USA', 'graduation_year': '2011'}, {'degree': 'Bachelor of Science in Robotics Engineering', 'university': 'Massachusetts Institute of Technology (MIT)', 'location': 'Cambridge, MA, USA', 'graduation_year': '2007'}], 'skills': ['Startup Founding', 'Artificial Intelligence', 'Robotics', 'Autonomous Systems', 'Machine Learning', 'Technology Leadership', 'Product Development', 'Strategic Partnerships', 'Entrepreneurship', 'Innovation']}, {'startup_enthusiast': 'Michael Chang', 'profile_url': 'https://www.linkedin.com/in/michaelchang/', 'background': 'Michael Chang is a serial entrepreneur and tech visionary with a history of founding and scaling startups in the tech industry. He has a passion for disruptive technologies and a knack for identifying market opportunities. Currently, Michael is the Founder and CEO of a fintech startup that is transforming digital banking and financial inclusion.', 'experience': [{'position': 'Founder & CEO at FinTech Innovators', 'duration': 'Jan 2016 - Present', 'location': 'San Francisco, CA, USA', 'responsibilities': ['Established and led the fintech company from inception', 'Developed cutting-edge financial products and services', 'Raised capital through successful funding rounds']}, {'position': 'Co-Founder & CTO at TechDisrupt, Inc.', 'duration': 'Jun 2012 - Dec 2015', 'location': 'Seattle, WA, USA', 'responsibilities': ['Drove technology innovation and product development', 'Built and led engineering teams to deliver disruptive solutions', 'Navigated the company through an acquisition']}], 'education': [{'degree': 'Master of Science in Computer Science', 'university': 'Stanford University', 'location': 'Stanford, CA, USA', 'graduation_year': '2011'}, {'degree': 'Bachelor of Business Administration (BBA)', 'university': 'University of Washington', 'location': 'Seattle, WA, USA', 'graduation_year': '2007'}], 'skills': ['Startup Founding', 'Fintech Innovation', 'Technology Leadership', 'Fundraising', 'Product Development', 'Digital Banking', 'Financial Inclusion', 'Entrepreneurship', 'Business Strategy', 'Strategic Partnerships']}]\n",
            "index: 0\n",
            "name_key: ['startup_enthusiast']\n",
            "sources: [{'startup_enthusiast': 'Sophia Patel', 'profile_url': 'https://www.linkedin.com/in/sophiapatel/', 'background': 'Sophia Patel is a forward-thinking entrepreneur who thrives on innovation and disruption. She has a history of founding and scaling startups in both the tech and healthcare sectors. Currently, Sophia is the Co-Founder and CEO of a healthtech startup focused on revolutionizing remote patient monitoring and healthcare access.', 'experience': [{'position': 'Co-Founder & CEO at HealthTech Innovations', 'duration': 'Jan 2017 - Present', 'location': 'Boston, MA, USA', 'responsibilities': [\"Lead the company's mission to improve healthcare access\", 'Developed telemedicine and remote monitoring solutions', 'Secured partnerships and funding for expansion']}, {'position': 'Co-Founder & COO at TechMed Solutions', 'duration': 'Jun 2012 - Dec 2016', 'location': 'San Diego, CA, USA', 'responsibilities': ['Launched and scaled a healthcare technology startup', 'Managed day-to-day operations and strategic growth', 'Built a network of healthcare providers and institutions']}], 'education': [{'degree': 'Doctor of Medicine (MD)', 'university': 'Harvard Medical School', 'location': 'Boston, MA, USA', 'graduation_year': '2010'}, {'degree': 'Bachelor of Science in Computer Science', 'university': 'Massachusetts Institute of Technology (MIT)', 'location': 'Cambridge, MA, USA', 'graduation_year': '2005'}], 'skills': ['Startup Founding', 'Healthtech Innovation', 'Telemedicine', 'Remote Patient Monitoring', 'Healthcare Access', 'Strategic Partnerships', 'Entrepreneurship', 'Medical Expertise', 'Product Development', 'Business Growth']}, {'startup_enthusiast': 'Alexandra Turner', 'profile_url': 'https://www.linkedin.com/in/alexandraturner/', 'background': 'Alexandra Turner is a dynamic entrepreneur with a passion for building innovative startups. With a proven track record of success, she has co-founded and led multiple ventures across various industries. Currently, Alexandra is the Co-Founder and CEO of a cutting-edge biotech startup focused on genetic research and personalized medicine.', 'experience': [{'position': 'Co-Founder & CEO at GenoHealth Sciences', 'duration': 'Jan 2016 - Present', 'location': 'San Francisco, CA, USA', 'responsibilities': ['Lead company vision, strategy, and product development', 'Secure funding through successful fundraising efforts', 'Build a multidisciplinary team and foster innovation']}, {'position': 'Co-Founder & COO at TechLaunchX', 'duration': 'Jul 2011 - Dec 2015', 'location': 'New York, NY, USA', 'responsibilities': ['Coordinated product development and market entry strategies', 'Managed day-to-day operations and financial planning', 'Negotiated partnerships and collaborations']}], 'education': [{'degree': 'Master of Business Administration (MBA)', 'university': 'Stanford Graduate School of Business', 'location': 'Stanford, CA, USA', 'graduation_year': '2010'}, {'degree': 'Bachelor of Science in Biotechnology', 'university': 'MIT', 'location': 'Cambridge, MA, USA', 'graduation_year': '2006'}], 'skills': ['Startup Leadership', 'Entrepreneurship', 'Biotech Innovation', 'Fundraising', 'Team Building', 'Product Development', 'Strategic Planning', 'Business Development', 'Biotechnology', 'Investor Relations']}, {'startup_enthusiast': 'Emily Patel', 'profile_url': 'https://www.linkedin.com/in/emilypatel/', 'background': 'Emily Patel is a creative entrepreneur known for her innovative solutions and dynamic leadership. She has a history of launching successful startups in various sectors. Currently, Emily is the Co-Founder and Chief Creative Officer of a tech-enabled fashion startup that combines fashion with sustainability and technology.', 'experience': [{'position': 'Co-Founder & Chief Creative Officer at WearTech Style', 'duration': 'Jan 2017 - Present', 'location': 'New York, NY, USA', 'responsibilities': ['Lead creative direction, design, and branding efforts', 'Develop sustainable fashion tech products and partnerships', 'Oversee marketing and customer engagement strategies']}, {'position': 'Founder & CEO at FoodFusion', 'duration': 'Jul 2011 - Dec 2016', 'location': 'San Francisco, CA, USA', 'responsibilities': ['Pioneered a food-tech startup focused on culinary innovation', 'Built a community of food enthusiasts and chefs', \"Navigated the company's growth and acquisition\"]}], 'education': [{'degree': 'Bachelor of Fine Arts (BFA) in Fashion Design', 'university': 'Parsons School of Design', 'location': 'New York, NY, USA', 'graduation_year': '2010'}, {'degree': 'Bachelor of Science in Business Administration', 'university': 'University of California, Berkeley', 'location': 'Berkeley, CA, USA', 'graduation_year': '2006'}], 'skills': ['Startup Leadership', 'Creative Direction', 'Fashion Tech Innovation', 'Sustainability in Fashion', 'Brand Development', 'Product Design', 'Marketing Strategy', 'Community Building', 'Entrepreneurship', 'Business Growth']}, {'startup_founder': 'John Nguyen', 'profile_url': 'https://www.linkedin.com/in/johnnguyen/', 'background': 'John Nguyen is a visionary entrepreneur with a strong background in technology and AI. He has a history of founding and leading startups in the artificial intelligence sector. Currently, John is the Founder and CEO of a robotics and AI startup focused on developing autonomous systems for various industries.', 'experience': [{'position': 'Founder & CEO at RoboTech Innovations', 'duration': 'Jan 2018 - Present', 'location': 'San Francisco, CA, USA', 'responsibilities': ['Established and led the robotics and AI startup', 'Developed autonomous systems for industrial applications', 'Secured partnerships and funding for growth']}, {'position': 'Co-Founder & CTO at AI Solutions, Inc.', 'duration': 'Jun 2012 - Dec 2017', 'location': 'Seattle, WA, USA', 'responsibilities': ['Pioneered AI solutions for enterprise clients', 'Led technology development and machine learning initiatives', 'Achieved successful AI product implementations']}], 'education': [{'degree': 'Master of Science in Computer Science', 'university': 'Stanford University', 'location': 'Stanford, CA, USA', 'graduation_year': '2011'}, {'degree': 'Bachelor of Science in Robotics Engineering', 'university': 'Massachusetts Institute of Technology (MIT)', 'location': 'Cambridge, MA, USA', 'graduation_year': '2007'}], 'skills': ['Startup Founding', 'Artificial Intelligence', 'Robotics', 'Autonomous Systems', 'Machine Learning', 'Technology Leadership', 'Product Development', 'Strategic Partnerships', 'Entrepreneurship', 'Innovation']}, {'startup_enthusiast': 'Michael Chang', 'profile_url': 'https://www.linkedin.com/in/michaelchang/', 'background': 'Michael Chang is a serial entrepreneur and tech visionary with a history of founding and scaling startups in the tech industry. He has a passion for disruptive technologies and a knack for identifying market opportunities. Currently, Michael is the Founder and CEO of a fintech startup that is transforming digital banking and financial inclusion.', 'experience': [{'position': 'Founder & CEO at FinTech Innovators', 'duration': 'Jan 2016 - Present', 'location': 'San Francisco, CA, USA', 'responsibilities': ['Established and led the fintech company from inception', 'Developed cutting-edge financial products and services', 'Raised capital through successful funding rounds']}, {'position': 'Co-Founder & CTO at TechDisrupt, Inc.', 'duration': 'Jun 2012 - Dec 2015', 'location': 'Seattle, WA, USA', 'responsibilities': ['Drove technology innovation and product development', 'Built and led engineering teams to deliver disruptive solutions', 'Navigated the company through an acquisition']}], 'education': [{'degree': 'Master of Science in Computer Science', 'university': 'Stanford University', 'location': 'Stanford, CA, USA', 'graduation_year': '2011'}, {'degree': 'Bachelor of Business Administration (BBA)', 'university': 'University of Washington', 'location': 'Seattle, WA, USA', 'graduation_year': '2007'}], 'skills': ['Startup Founding', 'Fintech Innovation', 'Technology Leadership', 'Fundraising', 'Product Development', 'Digital Banking', 'Financial Inclusion', 'Entrepreneurship', 'Business Strategy', 'Strategic Partnerships']}]\n",
            "index: 1\n",
            "name_key: ['startup_enthusiast']\n",
            "sources: [{'startup_enthusiast': 'Sophia Patel', 'profile_url': 'https://www.linkedin.com/in/sophiapatel/', 'background': 'Sophia Patel is a forward-thinking entrepreneur who thrives on innovation and disruption. She has a history of founding and scaling startups in both the tech and healthcare sectors. Currently, Sophia is the Co-Founder and CEO of a healthtech startup focused on revolutionizing remote patient monitoring and healthcare access.', 'experience': [{'position': 'Co-Founder & CEO at HealthTech Innovations', 'duration': 'Jan 2017 - Present', 'location': 'Boston, MA, USA', 'responsibilities': [\"Lead the company's mission to improve healthcare access\", 'Developed telemedicine and remote monitoring solutions', 'Secured partnerships and funding for expansion']}, {'position': 'Co-Founder & COO at TechMed Solutions', 'duration': 'Jun 2012 - Dec 2016', 'location': 'San Diego, CA, USA', 'responsibilities': ['Launched and scaled a healthcare technology startup', 'Managed day-to-day operations and strategic growth', 'Built a network of healthcare providers and institutions']}], 'education': [{'degree': 'Doctor of Medicine (MD)', 'university': 'Harvard Medical School', 'location': 'Boston, MA, USA', 'graduation_year': '2010'}, {'degree': 'Bachelor of Science in Computer Science', 'university': 'Massachusetts Institute of Technology (MIT)', 'location': 'Cambridge, MA, USA', 'graduation_year': '2005'}], 'skills': ['Startup Founding', 'Healthtech Innovation', 'Telemedicine', 'Remote Patient Monitoring', 'Healthcare Access', 'Strategic Partnerships', 'Entrepreneurship', 'Medical Expertise', 'Product Development', 'Business Growth']}, {'startup_enthusiast': 'Alexandra Turner', 'profile_url': 'https://www.linkedin.com/in/alexandraturner/', 'background': 'Alexandra Turner is a dynamic entrepreneur with a passion for building innovative startups. With a proven track record of success, she has co-founded and led multiple ventures across various industries. Currently, Alexandra is the Co-Founder and CEO of a cutting-edge biotech startup focused on genetic research and personalized medicine.', 'experience': [{'position': 'Co-Founder & CEO at GenoHealth Sciences', 'duration': 'Jan 2016 - Present', 'location': 'San Francisco, CA, USA', 'responsibilities': ['Lead company vision, strategy, and product development', 'Secure funding through successful fundraising efforts', 'Build a multidisciplinary team and foster innovation']}, {'position': 'Co-Founder & COO at TechLaunchX', 'duration': 'Jul 2011 - Dec 2015', 'location': 'New York, NY, USA', 'responsibilities': ['Coordinated product development and market entry strategies', 'Managed day-to-day operations and financial planning', 'Negotiated partnerships and collaborations']}], 'education': [{'degree': 'Master of Business Administration (MBA)', 'university': 'Stanford Graduate School of Business', 'location': 'Stanford, CA, USA', 'graduation_year': '2010'}, {'degree': 'Bachelor of Science in Biotechnology', 'university': 'MIT', 'location': 'Cambridge, MA, USA', 'graduation_year': '2006'}], 'skills': ['Startup Leadership', 'Entrepreneurship', 'Biotech Innovation', 'Fundraising', 'Team Building', 'Product Development', 'Strategic Planning', 'Business Development', 'Biotechnology', 'Investor Relations']}, {'startup_enthusiast': 'Emily Patel', 'profile_url': 'https://www.linkedin.com/in/emilypatel/', 'background': 'Emily Patel is a creative entrepreneur known for her innovative solutions and dynamic leadership. She has a history of launching successful startups in various sectors. Currently, Emily is the Co-Founder and Chief Creative Officer of a tech-enabled fashion startup that combines fashion with sustainability and technology.', 'experience': [{'position': 'Co-Founder & Chief Creative Officer at WearTech Style', 'duration': 'Jan 2017 - Present', 'location': 'New York, NY, USA', 'responsibilities': ['Lead creative direction, design, and branding efforts', 'Develop sustainable fashion tech products and partnerships', 'Oversee marketing and customer engagement strategies']}, {'position': 'Founder & CEO at FoodFusion', 'duration': 'Jul 2011 - Dec 2016', 'location': 'San Francisco, CA, USA', 'responsibilities': ['Pioneered a food-tech startup focused on culinary innovation', 'Built a community of food enthusiasts and chefs', \"Navigated the company's growth and acquisition\"]}], 'education': [{'degree': 'Bachelor of Fine Arts (BFA) in Fashion Design', 'university': 'Parsons School of Design', 'location': 'New York, NY, USA', 'graduation_year': '2010'}, {'degree': 'Bachelor of Science in Business Administration', 'university': 'University of California, Berkeley', 'location': 'Berkeley, CA, USA', 'graduation_year': '2006'}], 'skills': ['Startup Leadership', 'Creative Direction', 'Fashion Tech Innovation', 'Sustainability in Fashion', 'Brand Development', 'Product Design', 'Marketing Strategy', 'Community Building', 'Entrepreneurship', 'Business Growth']}, {'startup_founder': 'John Nguyen', 'profile_url': 'https://www.linkedin.com/in/johnnguyen/', 'background': 'John Nguyen is a visionary entrepreneur with a strong background in technology and AI. He has a history of founding and leading startups in the artificial intelligence sector. Currently, John is the Founder and CEO of a robotics and AI startup focused on developing autonomous systems for various industries.', 'experience': [{'position': 'Founder & CEO at RoboTech Innovations', 'duration': 'Jan 2018 - Present', 'location': 'San Francisco, CA, USA', 'responsibilities': ['Established and led the robotics and AI startup', 'Developed autonomous systems for industrial applications', 'Secured partnerships and funding for growth']}, {'position': 'Co-Founder & CTO at AI Solutions, Inc.', 'duration': 'Jun 2012 - Dec 2017', 'location': 'Seattle, WA, USA', 'responsibilities': ['Pioneered AI solutions for enterprise clients', 'Led technology development and machine learning initiatives', 'Achieved successful AI product implementations']}], 'education': [{'degree': 'Master of Science in Computer Science', 'university': 'Stanford University', 'location': 'Stanford, CA, USA', 'graduation_year': '2011'}, {'degree': 'Bachelor of Science in Robotics Engineering', 'university': 'Massachusetts Institute of Technology (MIT)', 'location': 'Cambridge, MA, USA', 'graduation_year': '2007'}], 'skills': ['Startup Founding', 'Artificial Intelligence', 'Robotics', 'Autonomous Systems', 'Machine Learning', 'Technology Leadership', 'Product Development', 'Strategic Partnerships', 'Entrepreneurship', 'Innovation']}, {'startup_enthusiast': 'Michael Chang', 'profile_url': 'https://www.linkedin.com/in/michaelchang/', 'background': 'Michael Chang is a serial entrepreneur and tech visionary with a history of founding and scaling startups in the tech industry. He has a passion for disruptive technologies and a knack for identifying market opportunities. Currently, Michael is the Founder and CEO of a fintech startup that is transforming digital banking and financial inclusion.', 'experience': [{'position': 'Founder & CEO at FinTech Innovators', 'duration': 'Jan 2016 - Present', 'location': 'San Francisco, CA, USA', 'responsibilities': ['Established and led the fintech company from inception', 'Developed cutting-edge financial products and services', 'Raised capital through successful funding rounds']}, {'position': 'Co-Founder & CTO at TechDisrupt, Inc.', 'duration': 'Jun 2012 - Dec 2015', 'location': 'Seattle, WA, USA', 'responsibilities': ['Drove technology innovation and product development', 'Built and led engineering teams to deliver disruptive solutions', 'Navigated the company through an acquisition']}], 'education': [{'degree': 'Master of Science in Computer Science', 'university': 'Stanford University', 'location': 'Stanford, CA, USA', 'graduation_year': '2011'}, {'degree': 'Bachelor of Business Administration (BBA)', 'university': 'University of Washington', 'location': 'Seattle, WA, USA', 'graduation_year': '2007'}], 'skills': ['Startup Founding', 'Fintech Innovation', 'Technology Leadership', 'Fundraising', 'Product Development', 'Digital Banking', 'Financial Inclusion', 'Entrepreneurship', 'Business Strategy', 'Strategic Partnerships']}]\n",
            "index: 2\n",
            "name_key: ['startup_enthusiast']\n",
            "sources: [{'startup_enthusiast': 'Sophia Patel', 'profile_url': 'https://www.linkedin.com/in/sophiapatel/', 'background': 'Sophia Patel is a forward-thinking entrepreneur who thrives on innovation and disruption. She has a history of founding and scaling startups in both the tech and healthcare sectors. Currently, Sophia is the Co-Founder and CEO of a healthtech startup focused on revolutionizing remote patient monitoring and healthcare access.', 'experience': [{'position': 'Co-Founder & CEO at HealthTech Innovations', 'duration': 'Jan 2017 - Present', 'location': 'Boston, MA, USA', 'responsibilities': [\"Lead the company's mission to improve healthcare access\", 'Developed telemedicine and remote monitoring solutions', 'Secured partnerships and funding for expansion']}, {'position': 'Co-Founder & COO at TechMed Solutions', 'duration': 'Jun 2012 - Dec 2016', 'location': 'San Diego, CA, USA', 'responsibilities': ['Launched and scaled a healthcare technology startup', 'Managed day-to-day operations and strategic growth', 'Built a network of healthcare providers and institutions']}], 'education': [{'degree': 'Doctor of Medicine (MD)', 'university': 'Harvard Medical School', 'location': 'Boston, MA, USA', 'graduation_year': '2010'}, {'degree': 'Bachelor of Science in Computer Science', 'university': 'Massachusetts Institute of Technology (MIT)', 'location': 'Cambridge, MA, USA', 'graduation_year': '2005'}], 'skills': ['Startup Founding', 'Healthtech Innovation', 'Telemedicine', 'Remote Patient Monitoring', 'Healthcare Access', 'Strategic Partnerships', 'Entrepreneurship', 'Medical Expertise', 'Product Development', 'Business Growth']}, {'startup_enthusiast': 'Alexandra Turner', 'profile_url': 'https://www.linkedin.com/in/alexandraturner/', 'background': 'Alexandra Turner is a dynamic entrepreneur with a passion for building innovative startups. With a proven track record of success, she has co-founded and led multiple ventures across various industries. Currently, Alexandra is the Co-Founder and CEO of a cutting-edge biotech startup focused on genetic research and personalized medicine.', 'experience': [{'position': 'Co-Founder & CEO at GenoHealth Sciences', 'duration': 'Jan 2016 - Present', 'location': 'San Francisco, CA, USA', 'responsibilities': ['Lead company vision, strategy, and product development', 'Secure funding through successful fundraising efforts', 'Build a multidisciplinary team and foster innovation']}, {'position': 'Co-Founder & COO at TechLaunchX', 'duration': 'Jul 2011 - Dec 2015', 'location': 'New York, NY, USA', 'responsibilities': ['Coordinated product development and market entry strategies', 'Managed day-to-day operations and financial planning', 'Negotiated partnerships and collaborations']}], 'education': [{'degree': 'Master of Business Administration (MBA)', 'university': 'Stanford Graduate School of Business', 'location': 'Stanford, CA, USA', 'graduation_year': '2010'}, {'degree': 'Bachelor of Science in Biotechnology', 'university': 'MIT', 'location': 'Cambridge, MA, USA', 'graduation_year': '2006'}], 'skills': ['Startup Leadership', 'Entrepreneurship', 'Biotech Innovation', 'Fundraising', 'Team Building', 'Product Development', 'Strategic Planning', 'Business Development', 'Biotechnology', 'Investor Relations']}, {'startup_enthusiast': 'Emily Patel', 'profile_url': 'https://www.linkedin.com/in/emilypatel/', 'background': 'Emily Patel is a creative entrepreneur known for her innovative solutions and dynamic leadership. She has a history of launching successful startups in various sectors. Currently, Emily is the Co-Founder and Chief Creative Officer of a tech-enabled fashion startup that combines fashion with sustainability and technology.', 'experience': [{'position': 'Co-Founder & Chief Creative Officer at WearTech Style', 'duration': 'Jan 2017 - Present', 'location': 'New York, NY, USA', 'responsibilities': ['Lead creative direction, design, and branding efforts', 'Develop sustainable fashion tech products and partnerships', 'Oversee marketing and customer engagement strategies']}, {'position': 'Founder & CEO at FoodFusion', 'duration': 'Jul 2011 - Dec 2016', 'location': 'San Francisco, CA, USA', 'responsibilities': ['Pioneered a food-tech startup focused on culinary innovation', 'Built a community of food enthusiasts and chefs', \"Navigated the company's growth and acquisition\"]}], 'education': [{'degree': 'Bachelor of Fine Arts (BFA) in Fashion Design', 'university': 'Parsons School of Design', 'location': 'New York, NY, USA', 'graduation_year': '2010'}, {'degree': 'Bachelor of Science in Business Administration', 'university': 'University of California, Berkeley', 'location': 'Berkeley, CA, USA', 'graduation_year': '2006'}], 'skills': ['Startup Leadership', 'Creative Direction', 'Fashion Tech Innovation', 'Sustainability in Fashion', 'Brand Development', 'Product Design', 'Marketing Strategy', 'Community Building', 'Entrepreneurship', 'Business Growth']}, {'startup_founder': 'John Nguyen', 'profile_url': 'https://www.linkedin.com/in/johnnguyen/', 'background': 'John Nguyen is a visionary entrepreneur with a strong background in technology and AI. He has a history of founding and leading startups in the artificial intelligence sector. Currently, John is the Founder and CEO of a robotics and AI startup focused on developing autonomous systems for various industries.', 'experience': [{'position': 'Founder & CEO at RoboTech Innovations', 'duration': 'Jan 2018 - Present', 'location': 'San Francisco, CA, USA', 'responsibilities': ['Established and led the robotics and AI startup', 'Developed autonomous systems for industrial applications', 'Secured partnerships and funding for growth']}, {'position': 'Co-Founder & CTO at AI Solutions, Inc.', 'duration': 'Jun 2012 - Dec 2017', 'location': 'Seattle, WA, USA', 'responsibilities': ['Pioneered AI solutions for enterprise clients', 'Led technology development and machine learning initiatives', 'Achieved successful AI product implementations']}], 'education': [{'degree': 'Master of Science in Computer Science', 'university': 'Stanford University', 'location': 'Stanford, CA, USA', 'graduation_year': '2011'}, {'degree': 'Bachelor of Science in Robotics Engineering', 'university': 'Massachusetts Institute of Technology (MIT)', 'location': 'Cambridge, MA, USA', 'graduation_year': '2007'}], 'skills': ['Startup Founding', 'Artificial Intelligence', 'Robotics', 'Autonomous Systems', 'Machine Learning', 'Technology Leadership', 'Product Development', 'Strategic Partnerships', 'Entrepreneurship', 'Innovation']}, {'startup_enthusiast': 'Michael Chang', 'profile_url': 'https://www.linkedin.com/in/michaelchang/', 'background': 'Michael Chang is a serial entrepreneur and tech visionary with a history of founding and scaling startups in the tech industry. He has a passion for disruptive technologies and a knack for identifying market opportunities. Currently, Michael is the Founder and CEO of a fintech startup that is transforming digital banking and financial inclusion.', 'experience': [{'position': 'Founder & CEO at FinTech Innovators', 'duration': 'Jan 2016 - Present', 'location': 'San Francisco, CA, USA', 'responsibilities': ['Established and led the fintech company from inception', 'Developed cutting-edge financial products and services', 'Raised capital through successful funding rounds']}, {'position': 'Co-Founder & CTO at TechDisrupt, Inc.', 'duration': 'Jun 2012 - Dec 2015', 'location': 'Seattle, WA, USA', 'responsibilities': ['Drove technology innovation and product development', 'Built and led engineering teams to deliver disruptive solutions', 'Navigated the company through an acquisition']}], 'education': [{'degree': 'Master of Science in Computer Science', 'university': 'Stanford University', 'location': 'Stanford, CA, USA', 'graduation_year': '2011'}, {'degree': 'Bachelor of Business Administration (BBA)', 'university': 'University of Washington', 'location': 'Seattle, WA, USA', 'graduation_year': '2007'}], 'skills': ['Startup Founding', 'Fintech Innovation', 'Technology Leadership', 'Fundraising', 'Product Development', 'Digital Banking', 'Financial Inclusion', 'Entrepreneurship', 'Business Strategy', 'Strategic Partnerships']}]\n",
            "index: 3\n",
            "name_key: ['startup_founder']\n",
            "sources: [{'startup_enthusiast': 'Sophia Patel', 'profile_url': 'https://www.linkedin.com/in/sophiapatel/', 'background': 'Sophia Patel is a forward-thinking entrepreneur who thrives on innovation and disruption. She has a history of founding and scaling startups in both the tech and healthcare sectors. Currently, Sophia is the Co-Founder and CEO of a healthtech startup focused on revolutionizing remote patient monitoring and healthcare access.', 'experience': [{'position': 'Co-Founder & CEO at HealthTech Innovations', 'duration': 'Jan 2017 - Present', 'location': 'Boston, MA, USA', 'responsibilities': [\"Lead the company's mission to improve healthcare access\", 'Developed telemedicine and remote monitoring solutions', 'Secured partnerships and funding for expansion']}, {'position': 'Co-Founder & COO at TechMed Solutions', 'duration': 'Jun 2012 - Dec 2016', 'location': 'San Diego, CA, USA', 'responsibilities': ['Launched and scaled a healthcare technology startup', 'Managed day-to-day operations and strategic growth', 'Built a network of healthcare providers and institutions']}], 'education': [{'degree': 'Doctor of Medicine (MD)', 'university': 'Harvard Medical School', 'location': 'Boston, MA, USA', 'graduation_year': '2010'}, {'degree': 'Bachelor of Science in Computer Science', 'university': 'Massachusetts Institute of Technology (MIT)', 'location': 'Cambridge, MA, USA', 'graduation_year': '2005'}], 'skills': ['Startup Founding', 'Healthtech Innovation', 'Telemedicine', 'Remote Patient Monitoring', 'Healthcare Access', 'Strategic Partnerships', 'Entrepreneurship', 'Medical Expertise', 'Product Development', 'Business Growth']}, {'startup_enthusiast': 'Alexandra Turner', 'profile_url': 'https://www.linkedin.com/in/alexandraturner/', 'background': 'Alexandra Turner is a dynamic entrepreneur with a passion for building innovative startups. With a proven track record of success, she has co-founded and led multiple ventures across various industries. Currently, Alexandra is the Co-Founder and CEO of a cutting-edge biotech startup focused on genetic research and personalized medicine.', 'experience': [{'position': 'Co-Founder & CEO at GenoHealth Sciences', 'duration': 'Jan 2016 - Present', 'location': 'San Francisco, CA, USA', 'responsibilities': ['Lead company vision, strategy, and product development', 'Secure funding through successful fundraising efforts', 'Build a multidisciplinary team and foster innovation']}, {'position': 'Co-Founder & COO at TechLaunchX', 'duration': 'Jul 2011 - Dec 2015', 'location': 'New York, NY, USA', 'responsibilities': ['Coordinated product development and market entry strategies', 'Managed day-to-day operations and financial planning', 'Negotiated partnerships and collaborations']}], 'education': [{'degree': 'Master of Business Administration (MBA)', 'university': 'Stanford Graduate School of Business', 'location': 'Stanford, CA, USA', 'graduation_year': '2010'}, {'degree': 'Bachelor of Science in Biotechnology', 'university': 'MIT', 'location': 'Cambridge, MA, USA', 'graduation_year': '2006'}], 'skills': ['Startup Leadership', 'Entrepreneurship', 'Biotech Innovation', 'Fundraising', 'Team Building', 'Product Development', 'Strategic Planning', 'Business Development', 'Biotechnology', 'Investor Relations']}, {'startup_enthusiast': 'Emily Patel', 'profile_url': 'https://www.linkedin.com/in/emilypatel/', 'background': 'Emily Patel is a creative entrepreneur known for her innovative solutions and dynamic leadership. She has a history of launching successful startups in various sectors. Currently, Emily is the Co-Founder and Chief Creative Officer of a tech-enabled fashion startup that combines fashion with sustainability and technology.', 'experience': [{'position': 'Co-Founder & Chief Creative Officer at WearTech Style', 'duration': 'Jan 2017 - Present', 'location': 'New York, NY, USA', 'responsibilities': ['Lead creative direction, design, and branding efforts', 'Develop sustainable fashion tech products and partnerships', 'Oversee marketing and customer engagement strategies']}, {'position': 'Founder & CEO at FoodFusion', 'duration': 'Jul 2011 - Dec 2016', 'location': 'San Francisco, CA, USA', 'responsibilities': ['Pioneered a food-tech startup focused on culinary innovation', 'Built a community of food enthusiasts and chefs', \"Navigated the company's growth and acquisition\"]}], 'education': [{'degree': 'Bachelor of Fine Arts (BFA) in Fashion Design', 'university': 'Parsons School of Design', 'location': 'New York, NY, USA', 'graduation_year': '2010'}, {'degree': 'Bachelor of Science in Business Administration', 'university': 'University of California, Berkeley', 'location': 'Berkeley, CA, USA', 'graduation_year': '2006'}], 'skills': ['Startup Leadership', 'Creative Direction', 'Fashion Tech Innovation', 'Sustainability in Fashion', 'Brand Development', 'Product Design', 'Marketing Strategy', 'Community Building', 'Entrepreneurship', 'Business Growth']}, {'startup_founder': 'John Nguyen', 'profile_url': 'https://www.linkedin.com/in/johnnguyen/', 'background': 'John Nguyen is a visionary entrepreneur with a strong background in technology and AI. He has a history of founding and leading startups in the artificial intelligence sector. Currently, John is the Founder and CEO of a robotics and AI startup focused on developing autonomous systems for various industries.', 'experience': [{'position': 'Founder & CEO at RoboTech Innovations', 'duration': 'Jan 2018 - Present', 'location': 'San Francisco, CA, USA', 'responsibilities': ['Established and led the robotics and AI startup', 'Developed autonomous systems for industrial applications', 'Secured partnerships and funding for growth']}, {'position': 'Co-Founder & CTO at AI Solutions, Inc.', 'duration': 'Jun 2012 - Dec 2017', 'location': 'Seattle, WA, USA', 'responsibilities': ['Pioneered AI solutions for enterprise clients', 'Led technology development and machine learning initiatives', 'Achieved successful AI product implementations']}], 'education': [{'degree': 'Master of Science in Computer Science', 'university': 'Stanford University', 'location': 'Stanford, CA, USA', 'graduation_year': '2011'}, {'degree': 'Bachelor of Science in Robotics Engineering', 'university': 'Massachusetts Institute of Technology (MIT)', 'location': 'Cambridge, MA, USA', 'graduation_year': '2007'}], 'skills': ['Startup Founding', 'Artificial Intelligence', 'Robotics', 'Autonomous Systems', 'Machine Learning', 'Technology Leadership', 'Product Development', 'Strategic Partnerships', 'Entrepreneurship', 'Innovation']}, {'startup_enthusiast': 'Michael Chang', 'profile_url': 'https://www.linkedin.com/in/michaelchang/', 'background': 'Michael Chang is a serial entrepreneur and tech visionary with a history of founding and scaling startups in the tech industry. He has a passion for disruptive technologies and a knack for identifying market opportunities. Currently, Michael is the Founder and CEO of a fintech startup that is transforming digital banking and financial inclusion.', 'experience': [{'position': 'Founder & CEO at FinTech Innovators', 'duration': 'Jan 2016 - Present', 'location': 'San Francisco, CA, USA', 'responsibilities': ['Established and led the fintech company from inception', 'Developed cutting-edge financial products and services', 'Raised capital through successful funding rounds']}, {'position': 'Co-Founder & CTO at TechDisrupt, Inc.', 'duration': 'Jun 2012 - Dec 2015', 'location': 'Seattle, WA, USA', 'responsibilities': ['Drove technology innovation and product development', 'Built and led engineering teams to deliver disruptive solutions', 'Navigated the company through an acquisition']}], 'education': [{'degree': 'Master of Science in Computer Science', 'university': 'Stanford University', 'location': 'Stanford, CA, USA', 'graduation_year': '2011'}, {'degree': 'Bachelor of Business Administration (BBA)', 'university': 'University of Washington', 'location': 'Seattle, WA, USA', 'graduation_year': '2007'}], 'skills': ['Startup Founding', 'Fintech Innovation', 'Technology Leadership', 'Fundraising', 'Product Development', 'Digital Banking', 'Financial Inclusion', 'Entrepreneurship', 'Business Strategy', 'Strategic Partnerships']}]\n",
            "index: 4\n",
            "name_key: ['startup_enthusiast']\n"
          ]
        }
      ],
      "source": [
        "result = search_engine.retrieve_and_summarize(2)"
      ]
    },
    {
      "cell_type": "code",
      "execution_count": null,
      "metadata": {
        "colab": {
          "base_uri": "https://localhost:8080/"
        },
        "id": "ccMRD3Q0TChC",
        "outputId": "a7b250e8-bfb4-496b-a5b8-4da05fd4e18b"
      },
      "outputs": [
        {
          "data": {
            "text/plain": [
              "{'matches': [{'name': 'Matthew Turner',\n",
              "   'title': '',\n",
              "   'summary_of_matches': \"Based on the provided profiles, Matthew Turner and Emily Patel both appear to be well-qualified entrepreneurs with complementary skills and experience relevant to founding and leading a startup.\\n\\nMatthew Turner has extensive experience in founding and building e-commerce startups, specifically in the fashion industry. His expertise in brand development, creative direction, and strategic partnerships would be invaluable for any startup looking to establish a strong brand identity and differentiate itself in the competitive online retail space. Furthermore, his background in business administration demonstrates a strong understanding of business fundamentals, which is crucial for any entrepreneurial venture.\\n\\nEmily Patel, on the other hand, brings a diverse set of skills and experience to the table. With a background in fashion design and business administration, she has honed her abilities in startup leadership, creative direction, fashion tech innovation, sustainability in fashion, and community building. Her experience in founding and leading tech-focused startups, such as FoodFusion and WearTech Style, demonstrates her ability to adapt to different industries and successfully navigate various challenges.\\n\\nWhile the summary for Matthew highlights his current role as the CEO of an e-commerce startup, Emily's summary indicates that she is currently serving as the Co-Founder and Chief Creative Officer of WearTech Style. This suggests that Emily is actively looking for a co-founder to join her in leading her current venture.\\n\\nIn terms of skillset compatibility, both profiles demonstrate a strong entrepreneurial drive, business acumen, and a passion for innovation. While the specific nature of their roles and areas of expertise differs, their combined experience across various fields, including e-commerce, fashion, design, and technology, would likely make them a strong founding team.\\n\\nTo make an informed decision on whether Matthew and Emily would be a good co-founding team, additional information would be needed. This could include details on their complementary skills, shared vision and values, and their approach to decision-making, conflict resolution, and division of responsibilities. \\n\\nIt is also important to note that founding a company is a significant commitment, and there are many factors beyond skillset compatibility that contribute to the success of a founding team. Ultimately, the decision of whether Matthew and Emily would be a good match as co-founders should be made considering multiple perspectives and information points. \\n\\nWould you like me to generate more suggestions for potential co-founders based on your criteria?\"},\n",
              "  {'name': 'Lucas Mitchell',\n",
              "   'title': '',\n",
              "   'summary_of_matches': \"Based on the provided profiles of Lucas Mitchell and Emily Patel, it seems that they have complementary skills and experiences that could potentially make them a strong co-founding team. \\n\\nLucas Mitchell, with his background in education and edtech and expertise in starting startups and online learning, would bring valuable knowledge and experience in the field of educational technology to the table. His skill set aligns well with the establishment and development of an edtech startup. On the other hand, Emily Patel possesses strong skills in various areas, including startup leadership, creative direction, fashion tech innovation, sustainability in fashion, and brand development, which could be instrumental in shaping the vision and growth of a fashion-focused venture.\\n\\nHowever, there are a few notable differences between their profiles that may be considered when assessing their potential co-founder dynamic:\\n\\nExperience in Similar Industries: While both individuals have experience in the entrepreneurial world, Lucas' background lies primarily in the education and edtech industries, while Emily's experience is focused in the tech and fashion industries. This difference doesn't necessarily preclude them from working together, but it may involve a learning curve for each co-founder to understand the other's domain expertise.\\n\\nPersonal Background and Industry Interests: Emily holds a Bachelor of Fine Arts in Fashion Design and a Bachelor of Science in Business Administration, indicating a strong background in design and business. Lucas, on the other hand, obtained a Master of Education in Educational Technology. Their respective areas of study and personal interests may affect the type of business they would be most passionate about pursuing together.\\n\\nDespite these differences, their shared experience in founding and leading startups, as well as their proficiency in various aspects of business and innovation, could provide a strong foundation for a successful co-founder relationship. Ultimately, the decision of whether Lucas and Emily would make a good co-founding team would depend on various factors, including their ability to align on a shared vision, their mutual respect and trust, and their willingness to collaborate and support each other throughout the startup journey. \\n\\nWould you like me to help you assess other potential co-founding teams?\"},\n",
              "  {'name': 'Eleanor Wright',\n",
              "   'title': '',\n",
              "   'summary_of_matches': \"Eleanor Wright and Emily Patel both possess impressive backgrounds and skills that could make them strong founding members of any company. However, there are some differences in their profiles that may be considered when deciding if they would make suitable co-founders for each other.\\n\\nOne significant consideration is their expertise and experience in the field. Eleanor has extensive experience in launching and leading fashion startups with a focus on sustainability and ethics. Her background in fashion merchandising and business administration has equipped her with valuable skills in areas such as startup founding, sustainable fashion, and product development. On the other hand, Emily's expertise lies in the tech and fashion industries, with experience in creative direction, fashion tech innovation, and community building. While Emily has also worked in the food-tech industry, Eleanor's exclusive focus on fashion may create a gap in understanding in the founding team for a food-tech company.\\n\\nAnother factor to consider is their respective roles and responsibilities within the company. Eleanor has experience as both a founder and CEO, suggesting she may be well-suited to assume a leadership position within the company. Emily's profile indicates that she is currently in a chief creative officer role, which highlights her strengths in creative direction and design. Ensuring that there is a clear division of labor and that each co-founder is aligned with their area of expertise is crucial for the success of any startup.\\n\\nUltimately, the most suitable co-founders for any company will depend on various factors, including the specific industry, business model, and goals of the startup. While Eleanor and Emily both have impressive backgrounds, their experience and expertise may be more complementary for some opportunities than for others. It is essential to conduct further analysis and assessment of their alignment with the vision and objectives of the venture before making a decision. \\n\\nWould you like me to generate other potential co-founder candidates based on your criteria?\"},\n",
              "  {'name': 'Sophia Patel',\n",
              "   'title': '',\n",
              "   'summary_of_matches': 'Based on the provided profiles, Sophia Patel and Emily Patel appear to have complementary skills and experiences that could make them a strong founding team. \\n\\nSophia Patel, with her background in medicine, computer science, and healthtech, would bring extensive technical and industry-specific expertise to the table. Her experience in founding and leading healthcare-focused startups makes her an ideal candidate to drive the vision and strategy of a new venture.\\n\\nEmily Patel, with her fashion design background and experience in founding and leading tech and fashion startups, would be particularly strong in creative direction, design, and branding. Her expertise in business growth, community building, and sustainability would also be invaluable for any startup looking to establish a strong presence in the market and connect with consumers.\\n\\nHowever, there are no specifics provided in the descriptions regarding their compatibility in terms of working style, values, and long-term goals. These factors are crucial for ensuring a successful long-term partnership as co-founders.\\n\\nTo determine if they would be a good match as co-founders, it would be helpful to have additional information about their complementary skills, shared vision, and alignment on key startup principles. An in-depth discussion about their values, working styles, and goals could provide further insights into their potential as a founding team. \\n\\nUltimately, the decision of whether Sophia and Emily would make a good co-founder team depends on multiple factors. It would be beneficial to have more information about their respective skills, experiences, and alignment in order to make a well-informed decision about potential co-founder compatibility. \\n\\nWould you like me to generate more suggestions for a potential co-founder based on the provided profile requirements?'},\n",
              "  {'name': 'Alexandra Scott',\n",
              "   'title': '',\n",
              "   'summary_of_matches': \"Given the profiles of Alexandra Scott and Emily Patel, both experienced entrepreneurs, there are several factors to consider when deciding if Emily would be a good fit as a co-founder for Alexandra's startup SolarX Innovations.\\n\\nFirstly, while both individuals possess relevant skills and experience, it is crucial to evaluate whether their areas of expertise align with the specific needs and goals of the startup. In this case, while Emily's background in fashion and technology at WearTech Style and FoodFusion demonstrates her entrepreneurial prowess, there is limited information on whether her expertise extends to the clean energy and solar technology space. \\n\\nAlexandra, on the other hand, has established herself as a seasoned entrepreneur in the renewable energy sector, having founded two companies, EcoEnergy Systems and SolarX Innovations, that specialize in clean energy and solar technology. Her extensive background in environmental engineering and sustainable energy makes her uniquely qualified to lead this type of venture.\\n\\nSecondly, when considering a co-founder, it is essential to assess mutual compatibility, shared goals, and alignment of vision. While the summary provides valuable insights into Emily's capabilities, it does not explicitly state her motivations or long-term aspirations. Whether she has an interest in transitioning to the renewable energy sector or whether her goals align with the mission of SolarX Innovations is not evident. \\n\\nConversely, Alexandra's profile indicates a clear focus on renewable energy and sustainability, suggesting her vision aligns seamlessly with the objectives of SolarX Innovations.\\n\\nAdditionally, factors such as personality, work style, and communication skills are crucial when entering into a co-founding relationship. While the summary provides some insight into Emily's capabilities, more information about her interpersonal dynamics and how she would complement Alexandra's strengths and work ethic is needed. \\n\\nIn conclusion, while Emily's entrepreneurial experience and skills are undoubtedly impressive, determining whether she would be a good fit as a co-founder for Alexandra's startup hinges on several factors, notably the alignment of their respective expertise, mutual compatibility, and shared vision for the venture. To make a more informed decision, it would be beneficial to have more detailed and direct information about both individuals, as well as potentially discuss collaboration opportunities directly. \\n\\nWould you like me to generate a summary for Emily Patel's profile in a different format?\"}]}"
            ]
          },
          "execution_count": 219,
          "metadata": {},
          "output_type": "execute_result"
        }
      ],
      "source": [
        "result"
      ]
    }
  ],
  "metadata": {
    "colab": {
      "machine_shape": "hm",
      "provenance": []
    },
    "kernelspec": {
      "display_name": "Python 3",
      "name": "python3"
    },
    "language_info": {
      "name": "python"
    }
  },
  "nbformat": 4,
  "nbformat_minor": 0
}
